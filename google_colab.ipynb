{
 "cells": [
  {
   "cell_type": "code",
   "execution_count": null,
   "metadata": {},
   "outputs": [],
   "source": [
    "import os\n",
    "\n",
    "%cd /content\n",
    "!git clone https://github.com/NTT123/TacotronS.git\n",
    "%cd /content/TacotronS\n",
    "\n",
    "if not os.path.isdir(\"tf_data\"):\n",
    "    %pip install -q poetry\n",
    "    !poetry install\n",
    "    !poetry run pip install jax[cuda11_cudnn805] -f https://storage.googleapis.com/jax-releases/jax_releases.html\n",
    "    # or cudnn 8.2\n",
    "    #!poetry run pip install --upgrade \"jax[cuda]\" -f https://storage.googleapis.com/jax-releases/jax_releases.html    \n",
    "\n",
    "    # prepare data\n",
    "    !poetry run python ljs.py\n",
    "    !poetry run python data.py /root/.cache/pooch/b5107092215abf6367ef755eb0633116-LJSpeech-1.1.tar.bz2.untar/LJSpeech-1.1/wavs\n",
    "\n",
    "    # uncomment to save checkpoints to google drive\n",
    "    # !mkdir /content/drive/MyDrive/{logs,ckpts}\n",
    "    # !ln -sfT /content/drive/MyDrive/ckpts ./ckpts\n",
    "    # !ln -sfT /content/drive/MyDrive/logs ./logs\n",
    "    !mkdir -p ckpts logs"
   ]
  },
  {
   "cell_type": "code",
   "execution_count": null,
   "metadata": {},
   "outputs": [],
   "source": [
    "!MPLBACKEND=agg poetry run python train.py"
   ]
  }
 ],
 "metadata": {
  "interpreter": {
   "hash": "1b63408a06afa1ceea6203a9761e579688f17d9bfdae85f0214f682761b70f46"
  },
  "kernelspec": {
   "display_name": "Python 3.8.12 ('.venv': poetry)",
   "language": "python",
   "name": "python3"
  },
  "language_info": {
   "name": "python",
   "version": "3.8.12"
  },
  "orig_nbformat": 4
 },
 "nbformat": 4,
 "nbformat_minor": 2
}
