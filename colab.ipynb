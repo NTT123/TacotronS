{
 "cells": [
  {
   "cell_type": "code",
   "execution_count": null,
   "metadata": {},
   "outputs": [],
   "source": [
    "!sudo apt install sox\n",
    "!pip install -Uqq unidecode pax3 opax toml fire tensorflow-cpu"
   ]
  },
  {
   "cell_type": "code",
   "execution_count": null,
   "metadata": {},
   "outputs": [],
   "source": [
    "%cd /content\n",
    "!git clone https://github.com/NTT123/TacotronS.git\n",
    "%cd /content/TacotronS"
   ]
  },
  {
   "cell_type": "code",
   "execution_count": null,
   "metadata": {},
   "outputs": [],
   "source": [
    "import os\n",
    "from pathlib import Path\n",
    "from tqdm.cli import tqdm"
   ]
  },
  {
   "cell_type": "code",
   "execution_count": null,
   "metadata": {},
   "outputs": [],
   "source": [
    "# download LJSpeech dataset\n",
    "!python ljs.py"
   ]
  },
  {
   "cell_type": "code",
   "execution_count": null,
   "metadata": {},
   "outputs": [],
   "source": [
    "# resample to 24k\n",
    "!mkdir -p wav_24k\n",
    "wav_dir = Path(\"/root/.cache/pooch/b5107092215abf6367ef755eb0633116-LJSpeech-1.1.tar.bz2.untar/LJSpeech-1.1/wavs\")\n",
    "wav_files = sorted(wav_dir.glob(\"*.wav\"))\n",
    "for path in tqdm(wav_files):\n",
    "    cmd = f\"sox {path} -c 1 --norm=-3 -r 24000 wav_24k/{path.name}\"\n",
    "    os.system(cmd)"
   ]
  },
  {
   "cell_type": "code",
   "execution_count": null,
   "metadata": {},
   "outputs": [],
   "source": [
    "!cp {wav_dir}/*.txt ./wav_24k"
   ]
  },
  {
   "cell_type": "code",
   "execution_count": null,
   "metadata": {},
   "outputs": [],
   "source": [
    "# create tf dataset\n",
    "!python data.py wav_24k"
   ]
  },
  {
   "cell_type": "code",
   "execution_count": null,
   "metadata": {},
   "outputs": [],
   "source": [
    "# uncomment to save checkpoints to google drive\n",
    "# !mkdir /content/drive/MyDrive/{logs,ckpts}\n",
    "# !ln -sfT /content/drive/MyDrive/ckpts ./ckpts\n",
    "# !ln -sfT /content/drive/MyDrive/logs ./logs\n",
    "!mkdir -p ckpts logs"
   ]
  },
  {
   "cell_type": "code",
   "execution_count": null,
   "metadata": {},
   "outputs": [],
   "source": [
    "!python train.py | tee -a ./logs/training_logs.txt"
   ]
  }
 ],
 "metadata": {
  "interpreter": {
   "hash": "1b63408a06afa1ceea6203a9761e579688f17d9bfdae85f0214f682761b70f46"
  },
  "kernelspec": {
   "display_name": "Python 3.8.12 ('.venv': poetry)",
   "language": "python",
   "name": "python3"
  },
  "language_info": {
   "name": "python",
   "version": "3.8.12"
  },
  "orig_nbformat": 4
 },
 "nbformat": 4,
 "nbformat_minor": 2
}
